{
 "nbformat": 4,
 "nbformat_minor": 0,
 "metadata": {
  "colab": {
   "provenance": [],
   "gpuType": "V28"
  },
  "kernelspec": {
   "name": "python3",
   "display_name": "Python 3 (ipykernel)",
   "language": "python"
  },
  "language_info": {
   "name": "python"
  },
  "accelerator": "TPU"
 },
 "cells": [
  {
   "cell_type": "code",
   "metadata": {
    "id": "Xpk5Km23R-gF",
    "colab": {
     "base_uri": "https://localhost:8080/"
    },
    "outputId": "24e4aef9-0900-4f86-c316-536aad12350b",
    "ExecuteTime": {
     "end_time": "2024-06-02T05:52:58.162317Z",
     "start_time": "2024-06-02T05:52:57.845167Z"
    }
   },
   "source": [
    "# Nhập dữ liệu\n",
    "# https://www.kaggle.com/datasets/maharshipandya/-spotify-tracks-dataset\n",
    "\n",
    "import numpy as np\n",
    "import pandas as pd\n",
    "\n",
    "# data = pd.read_csv(\"/content/drive/MyDrive/dataset.csv\")\n",
    "data = pd.read_csv(\"dataset/dataset.csv\")\n",
    "print(data.head(5))"
   ],
   "execution_count": 1,
   "outputs": []
  },
  {
   "metadata": {},
   "cell_type": "markdown",
   "source": "# Tiền xử lý dữ liệu"
  },
  {
   "metadata": {
    "ExecuteTime": {
     "end_time": "2024-06-02T05:52:58.207896Z",
     "start_time": "2024-06-02T05:52:58.163111Z"
    }
   },
   "cell_type": "code",
   "source": [
    "# Tiền xử lý dữ liệu\n",
    "# Xóa những dòng có giá trị null\n",
    "\n",
    "data.isnull().sum()\n",
    "data = data.dropna()\n"
   ],
   "execution_count": 2,
   "outputs": []
  },
  {
   "metadata": {
    "ExecuteTime": {
     "end_time": "2024-06-02T05:52:58.224048Z",
     "start_time": "2024-06-02T05:52:58.209101Z"
    }
   },
   "cell_type": "code",
   "source": [
    "\n",
    "# Kiểm tra dữ liệu trùng lặp\n",
    "duplicate_rows = data[data.duplicated(subset=['track_id'])]\n",
    "print(\"Number of duplicate rows: \", duplicate_rows.shape)"
   ],
   "execution_count": 3,
   "outputs": []
  },
  {
   "metadata": {
    "ExecuteTime": {
     "end_time": "2024-06-02T05:52:58.253045Z",
     "start_time": "2024-06-02T05:52:58.225563Z"
    }
   },
   "cell_type": "code",
   "source": [
    "# Xóa dữ liệu trùng lặp\n",
    "data = data.drop_duplicates(subset=\"track_id\", keep='first', inplace=False)\n",
    "print(data[data.duplicated(subset=['track_id'])].shape)"
   ],
   "execution_count": 4,
   "outputs": []
  },
  {
   "metadata": {
    "ExecuteTime": {
     "end_time": "2024-06-02T05:52:58.265607Z",
     "start_time": "2024-06-02T05:52:58.254844Z"
    }
   },
   "cell_type": "code",
   "source": [
    "# Ta thấy có thuộc tính track_genre và explicit là categorical nhưng mà nó quan trọng cho việc huấn luyện và dự báo, ta sẽ chuyển nó thành dạng số\n",
    "data['track_genre_categorical'] = data['track_genre']\n",
    "data['explicit_categorical'] = data['explicit']\n",
    "data['track_genre'] = pd.Categorical(data['track_genre'])\n",
    "data['track_genre'] = data['track_genre'].cat.codes\n",
    "data['explicit'] = data['explicit'].astype(int)\n",
    "\n",
    "print(data['track_genre'].unique())\n",
    "print(data['explicit'].unique())"
   ],
   "execution_count": 5,
   "outputs": []
  },
  {
   "metadata": {},
   "cell_type": "markdown",
   "source": "# EDA"
  },
  {
   "metadata": {
    "ExecuteTime": {
     "end_time": "2024-06-02T08:01:42.324201Z",
     "start_time": "2024-06-02T08:01:42.318705Z"
    }
   },
   "cell_type": "code",
   "source": [
    "#Độ lơn của dữ liệu\n",
    "print(data.shape)"
   ],
   "execution_count": 60,
   "outputs": []
  },
  {
   "metadata": {
    "ExecuteTime": {
     "end_time": "2024-06-02T05:52:58.269386Z",
     "start_time": "2024-06-02T05:52:58.266638Z"
    }
   },
   "cell_type": "code",
   "source": [
    "# Các thuộc tính của dữ liệu\n",
    "print(data.columns)"
   ],
   "execution_count": 6,
   "outputs": []
  },
  {
   "metadata": {
    "ExecuteTime": {
     "end_time": "2024-06-02T05:52:58.360954Z",
     "start_time": "2024-06-02T05:52:58.270323Z"
    }
   },
   "cell_type": "code",
   "source": [
    "# Phân phối của các thuộc tính\n",
    "\n",
    "data.describe().transpose()"
   ],
   "execution_count": 7,
   "outputs": []
  },
  {
   "metadata": {
    "ExecuteTime": {
     "end_time": "2024-06-02T05:52:58.391116Z",
     "start_time": "2024-06-02T05:52:58.362057Z"
    }
   },
   "cell_type": "code",
   "source": [
    "#Populatiry sorting\n",
    "# Sắp xếp theo độ phổ biến\n",
    "\n",
    "most_popular = data.query ('popularity>90', inplace = False).sort_values('popularity', ascending = False)\n",
    "most_popular [:20]"
   ],
   "execution_count": 8,
   "outputs": []
  },
  {
   "metadata": {
    "ExecuteTime": {
     "end_time": "2024-06-02T05:52:58.402418Z",
     "start_time": "2024-06-02T05:52:58.392242Z"
    }
   },
   "cell_type": "code",
   "source": [
    "# Phan phối của các thể loại theo độ phổ biến\n",
    "\n",
    "popularity_genre = data.groupby([data['track_genre_categorical']])['popularity'].mean().sort_values(ascending = False)\n",
    "popularity_genre[:20]"
   ],
   "execution_count": 9,
   "outputs": []
  },
  {
   "metadata": {
    "ExecuteTime": {
     "end_time": "2024-06-02T05:52:58.435433Z",
     "start_time": "2024-06-02T05:52:58.403709Z"
    }
   },
   "cell_type": "code",
   "source": [
    "# Phân phối các nghệ sĩ theo độ phổ biến\n",
    "popularity_artist = data.groupby([data['artists']])['popularity'].mean().sort_values(ascending = False)\n",
    "popularity_artist[:20]"
   ],
   "execution_count": 10,
   "outputs": []
  },
  {
   "metadata": {
    "ExecuteTime": {
     "end_time": "2024-06-02T04:04:39.257029Z",
     "start_time": "2024-06-02T04:04:39.197972Z"
    }
   },
   "cell_type": "code",
   "source": [
    "# Phân phối các album theo độ phổ biến\n",
    "popularity_album = data.groupby([data['album_name']])['popularity'].mean().sort_values(ascending = False)\n",
    "popularity_album[:20]"
   ],
   "execution_count": 25,
   "outputs": []
  },
  {
   "metadata": {},
   "cell_type": "markdown",
   "source": [
    "Genre analysis and visualization\n",
    "\n",
    "Ở phần này, nhóm muốn đi sâu vào phân tích tương quan và sâu hơn để khám phá các yếu tố nào trong bài hát thể hiện mối tương quan cao hơn với 20 thể loại phổ biến nhất. Mục tiêu chính là xác định những yếu tố ảnh hưởng góp phần vào sự phổ biến của thể loại này. Từ đó, nhóm mong muốn đạt được những hiểu biết sâu sắc có giá trị về mối quan hệ cơ bản giữa đặc điểm âm nhạc và sở thích thể loại của người nghe."
   ]
  },
  {
   "metadata": {
    "ExecuteTime": {
     "end_time": "2024-06-02T06:01:55.245435Z",
     "start_time": "2024-06-02T06:01:55.236096Z"
    }
   },
   "cell_type": "code",
   "source": [
    "# Nhóm sẽ tập trung vào 20 thể loại phổ biến nhất để thực hiện phân tích\n",
    "\n",
    "genre_popularity = data.groupby('track_genre_categorical')['popularity'].mean()\n",
    "\n",
    "genre_popularity_sorted = genre_popularity.sort_values(ascending=False)\n",
    "# Đoạn code naỳ tính toán độ phổ biến trung bình cho mỗi thể loại và sắp xếp chúng theo thứ tự giảm dần.\n",
    "top_genres = genre_popularity_sorted.head(20)"
   ],
   "execution_count": 13,
   "outputs": []
  },
  {
   "metadata": {
    "ExecuteTime": {
     "end_time": "2024-06-02T06:06:30.034091Z",
     "start_time": "2024-06-02T06:06:28.488348Z"
    }
   },
   "cell_type": "code",
   "source": [
    "#Genre-based analysis of popularity\n",
    "# Phân tích dựa trên thể loại của độ phổ biến\n",
    "import matplotlib.pyplot as plt\n",
    "import seaborn as sns\n",
    "plt.figure(figsize=(12, 6))\n",
    "sns.barplot(x=top_genres.index, y=top_genres.values, palette=\"husl\")\n",
    "plt.title(\"Độ phổ biến trung binh của các thể loại nhạc\")\n",
    "plt.xlabel('Genre')\n",
    "plt.ylabel('Average Popularity')\n",
    "plt.xticks(rotation=90)\n",
    "plt.tight_layout()\n",
    "plt.show()"
   ],
   "execution_count": 16,
   "outputs": []
  },
  {
   "metadata": {},
   "cell_type": "markdown",
   "source": "- Kpop và Pop là 2 thể loại phổ biến nhất, theo sau là Metal Rock và Chill."
  },
  {
   "metadata": {
    "ExecuteTime": {
     "end_time": "2024-06-02T06:07:04.619329Z",
     "start_time": "2024-06-02T06:07:04.061155Z"
    }
   },
   "cell_type": "code",
   "source": [
    "# Phân phối năng lượng trong các thể loại khác nhau\n",
    "high_energy_genres = top_genres.head(20)\n",
    "\n",
    "plt.figure(figsize=(10, 6))\n",
    "\n",
    "# Box plot or violin plot for high energy genres\n",
    "sns.boxplot(x=data[data['track_genre_categorical'].isin(high_energy_genres.index)]['track_genre_categorical'], y='energy', data=data, palette=\"husl\")\n",
    "plt.title(\"Phân phối năng lượng trong các thể loại nhạc phổ biến\")\n",
    "plt.xlabel(\"Genre\")\n",
    "plt.ylabel(\"Energy\")\n",
    "plt.xticks(rotation=45)\n",
    "\n",
    "\n",
    "plt.show()"
   ],
   "execution_count": 18,
   "outputs": []
  },
  {
   "metadata": {
    "ExecuteTime": {
     "end_time": "2024-06-02T06:09:29.775195Z",
     "start_time": "2024-06-02T06:09:29.368019Z"
    }
   },
   "cell_type": "code",
   "source": [
    "danceability = data['danceability']\n",
    "popularity = data['popularity']\n",
    "\n",
    "\n",
    "plt.figure(figsize=(8, 6))\n",
    "sns.scatterplot(x=data['danceability'], y=data['popularity'])\n",
    "plt.title(\"Danceability vs Popularity\")\n",
    "plt.xlabel(\"Danceability\")\n",
    "plt.ylabel(\"Popularity\")\n",
    "plt.show()"
   ],
   "execution_count": 19,
   "outputs": []
  },
  {
   "metadata": {},
   "cell_type": "markdown",
   "source": "- Có vẻ như có nhiều bài hát có \"danceability\" cao nhưng không phải lúc nào cũng phổ biến. Nhưng vẫn có độ dốc nhất định cho thấy nhiều bài hát có \"danceability\" cao thì càng phổ biến hơn."
  },
  {
   "metadata": {
    "ExecuteTime": {
     "end_time": "2024-06-02T06:17:32.190977Z",
     "start_time": "2024-06-02T06:17:31.262697Z"
    }
   },
   "cell_type": "code",
   "source": [
    "plt.figure(figsize=(10, 8))\n",
    "\n",
    "# Scatter plot for duration vs popularity\n",
    "# Tạo thêm cột duration để chuyển đổi thời lượng từ ms sang giây\n",
    "data['duration'] = data['duration_ms'] / 1000\n",
    "\n",
    "sns.scatterplot(x='duration', y='popularity', hue='track_genre_categorical', data=data[data['track_genre_categorical'].isin(top_genres.index)], alpha=0.7, palette='husl')\n",
    "plt.title(\"Duration vs. Popularity by Genre\")\n",
    "plt.xlabel(\"Duration in seconds\")\n",
    "plt.ylabel(\"Popularity\")\n",
    "\n",
    "\n",
    "plt.show()"
   ],
   "execution_count": 24,
   "outputs": []
  },
  {
   "metadata": {},
   "cell_type": "markdown",
   "source": "- Các bài hát phổ biến thường có thời lượng từ 230s đến 250s"
  },
  {
   "metadata": {},
   "cell_type": "markdown",
   "source": [
    "## Kết luận EDA\n",
    "- Kpop và Pop là 2 thể loại phổ biến nhất, theo sau là Metal Rock và Chill.\n",
    "- Có vẻ như có nhiều bài hát có \"danceability\" cao nhưng không phải lúc nào cũng phổ biến. Nhưng vẫn có độ dốc nhất định cho thấy nhiều bài hát có \"danceability\" cao thì càng phổ biến hơn.\n",
    "- Các bài hát phổ biến thường có thời lượng từ 230s đến 250s\n",
    "- Chỉ số energy của bài hát thể hiện đúng tính chất của thể loại nhạc đó \n",
    "- Không thấy được sự tương quan rõ ràng giữa lời bài hát và độ phổ biến vì chỉ có biến explicit làm đại diện cho lời bài hát nhưng không đanh giá được chất lượng của lời bài hát "
   ]
  },
  {
   "metadata": {},
   "cell_type": "markdown",
   "source": [
    "# Bài toán phân cụm\n",
    "\n",
    "## Mục tiêu của nhóm là xây dựng một hệ thống gợi ý dựa trên nội dung của bài hát. \n",
    "- Nhóm sẽ gom các thuộc tính ảnh hưởng tới nội dung của bài hát như danceability, energy, key, loudness, mode, speechiness, acousticness, instrumentalness, liveness, valence, tempo, track_genre, explicit để phân cụm các bài hát.\n",
    "- Nhóm sẽ test và đánh giá 4 phương pháp, mô hình phân cụm bao gồm K-means, Gaussian Mixture Model, DBSCAN và AutoEncoder kết hợp với K-means để chọn ra mô hình tốt nhất.\n",
    "- Sau khi chọn ra mô hình tốt nhất, nhóm sẽ lưu lại mô hình và dữ liệu đã được gán nhãn để sử dụng cho việc gợi ý bài hát.\n",
    "- Với mỗi bài hát đầu vào, hệ thống sẽ dùng mô hình đã được huấn luyện để dự báo nhãn của bài hát đó và tìm kiếm những bài hát có nhãn tương tự, tiếp theo sử dụng cosine similarity để tìm ra 10 bài hát tương tự nhất.  \n",
    "\n",
    "## Dữ liệu này là dữ liệu không gán nhãn và sự dụng phuơng pháp intrinsic evaluation để đánh giá mô hình  "
   ]
  },
  {
   "metadata": {},
   "cell_type": "markdown",
   "source": "Vì dữ liệu thuộc dải số lớn nên nhóm sẽ sử dụng MinMaxScaler để chuẩn hóa dữ liệu, chuẩn hóa các thuộc tính ảnh hưởng tới nội dung của bài hát như danceability, energy, key, loudness, mode, speechiness, acousticness, instrumentalness, liveness, valence, tempo, track_genre, explicit"
  },
  {
   "cell_type": "code",
   "source": [
    "from sklearn.preprocessing import MinMaxScaler\n",
    "\n",
    "scaler = MinMaxScaler()\n",
    "#train_data\n",
    "music_features_train = data[['danceability', 'energy', 'key',\n",
    "                           'loudness', 'mode', 'speechiness', 'acousticness',\n",
    "                           'instrumentalness', 'liveness', 'valence', 'tempo', 'track_genre', 'explicit']].values\n",
    "music_features_scaled_train = scaler.fit_transform(music_features_train)\n",
    "#Lưu lại scaler đã được fit\n",
    "import pickle\n",
    "filename = 'scaler.sav'\n",
    "pickle.dump(scaler, open(filename, 'wb'))\n",
    "print(music_features_scaled_train.shape)"
   ],
   "metadata": {
    "id": "o3SIYxpmSX5Q",
    "colab": {
     "base_uri": "https://localhost:8080/"
    },
    "outputId": "b6b59058-22e1-4907-8cfe-6a3cb0954af0",
    "ExecuteTime": {
     "end_time": "2024-06-02T08:35:40.468877Z",
     "start_time": "2024-06-02T08:35:40.009107Z"
    }
   },
   "execution_count": 61,
   "outputs": []
  },
  {
   "cell_type": "markdown",
   "source": "# K-means",
   "metadata": {
    "id": "Ab2SqtJSW6jr"
   }
  },
  {
   "cell_type": "code",
   "source": [],
   "metadata": {
    "id": "gRvPdd_hUK6f",
    "ExecuteTime": {
     "end_time": "2024-06-01T06:59:48.636818Z",
     "start_time": "2024-06-01T06:59:48.636734Z"
    }
   },
   "execution_count": null,
   "outputs": []
  },
  {
   "cell_type": "code",
   "metadata": {
    "id": "iKZSXnBaqCXI",
    "colab": {
     "base_uri": "https://localhost:8080/",
     "height": 1000
    },
    "outputId": "654cc437-2541-433f-bac7-bbfd5fefd571",
    "ExecuteTime": {
     "end_time": "2024-06-02T06:33:13.759924Z",
     "start_time": "2024-06-02T06:33:03.914854Z"
    }
   },
   "source": [
    "# Cho số lượng cụm để chạy tìm cụm nào cho điểm cao nhất\n",
    "from yellowbrick.cluster import SilhouetteVisualizer\n",
    "from sklearn.metrics import silhouette_score\n",
    "from sklearn.cluster import KMeans\n",
    "from yellowbrick.cluster import KElbowVisualizer\n",
    "\n",
    "model = KMeans(init=\"k-means++\")\n",
    "visualizer = KElbowVisualizer(model, k=(1,25))\n",
    "visualizer.fit(music_features_scaled_train)\n",
    "visualizer.show()"
   ],
   "execution_count": 26,
   "outputs": []
  },
  {
   "cell_type": "markdown",
   "source": "Chọn số cụm là 9",
   "metadata": {
    "id": "99cODb_CXw7v"
   }
  },
  {
   "cell_type": "code",
   "source": [
    "# Test score\n",
    "\n",
    "kmean = KMeans(init=\"k-means++\", n_clusters=9)\n",
    "visualizer = SilhouetteVisualizer(kmean, colors='yellowbrick')\n",
    "\n",
    "visualizer.fit(music_features_scaled_train)        # Fit the data to the visualizer\n",
    "visualizer.show()        # Finalize and render the figure"
   ],
   "metadata": {
    "id": "xj30mHpMXvea",
    "colab": {
     "base_uri": "https://localhost:8080/",
     "height": 617
    },
    "outputId": "3e71c3c4-c1d4-4f35-a700-4f76c3dc5b74",
    "ExecuteTime": {
     "end_time": "2024-06-02T06:49:00.197860Z",
     "start_time": "2024-06-02T06:45:09.742645Z"
    }
   },
   "execution_count": 28,
   "outputs": []
  },
  {
   "metadata": {
    "ExecuteTime": {
     "end_time": "2024-06-02T06:59:58.857344Z",
     "start_time": "2024-06-02T06:58:09.705180Z"
    }
   },
   "cell_type": "code",
   "source": "print(f\"Silhouette Score for KMeans\", silhouette_score(music_features_scaled_train, kmean.labels_))",
   "execution_count": 29,
   "outputs": []
  },
  {
   "metadata": {
    "ExecuteTime": {
     "end_time": "2024-06-02T07:10:27.163421Z",
     "start_time": "2024-06-02T07:05:11.288554Z"
    }
   },
   "cell_type": "code",
   "source": [
    "# Giảm chiều dữ liệu để vẽ biểu đồ mô tả phân cụm\n",
    "from sklearn.manifold import TSNE\n",
    "import plotly.express as px\n",
    "\n",
    "tsne = TSNE(n_components=2)\n",
    "tsne_results = tsne.fit_transform(music_features_scaled_train)"
   ],
   "execution_count": 30,
   "outputs": []
  },
  {
   "metadata": {
    "ExecuteTime": {
     "end_time": "2024-06-02T07:11:54.376861Z",
     "start_time": "2024-06-02T07:11:51.525634Z"
    }
   },
   "cell_type": "code",
   "source": [
    "# Vẽ biểu đồ phân cụm (sử dụng được cho nhiều model khác nhau)\n",
    "\n",
    "\n",
    "import matplotlib.patheffects as PathEffects\n",
    "import seaborn as sns\n",
    "import numpy as np\n",
    "\n",
    "def _plot_kmean_scatter(X, labels):\n",
    "    '''\n",
    "    X: dữ liệu đầu vào\n",
    "    labels: nhãn dự báo\n",
    "    '''\n",
    "    # lựa chọn màu sắc\n",
    "    num_classes = len(np.unique(labels))\n",
    "    palette = np.array(sns.color_palette(\"hls\", num_classes))\n",
    "\n",
    "    # vẽ biểu đồ scatter\n",
    "    fig = plt.figure(figsize=(12, 8))\n",
    "    ax = plt.subplot()\n",
    "    sc = ax.scatter(X[:,0], X[:,1], lw=0, s=40, c=palette[labels])\n",
    "    plt.xlim(-150, 150)\n",
    "    plt.ylim(-150, 150)\n",
    "\n",
    "    # thêm nhãn cho mỗi cluster\n",
    "    txts = []\n",
    "\n",
    "    for i in range(num_classes):\n",
    "        # Vẽ text tên cụm tại trung vị của mỗi cụm\n",
    "        xtext, ytext = np.median(X[labels == i, :], axis=0)\n",
    "        txt = ax.text(xtext, ytext, str(i), fontsize=24)\n",
    "        txt.set_path_effects([\n",
    "            PathEffects.Stroke(linewidth=5, foreground=\"w\"),\n",
    "            PathEffects.Normal()])\n",
    "        txts.append(txt)\n",
    "    plt.title('t-sne visualization')\n",
    "\n",
    "_plot_kmean_scatter(tsne_results, kmean.labels_)"
   ],
   "execution_count": 31,
   "outputs": []
  },
  {
   "metadata": {
    "ExecuteTime": {
     "end_time": "2024-06-02T07:12:57.533074Z",
     "start_time": "2024-06-02T07:12:56.632277Z"
    }
   },
   "cell_type": "code",
   "source": [
    "# Nhóm sẽ lưu lại dữ liệu và gắn nhãn để đánh giá tính chất của các cụm\n",
    "k_mean_labels = kmean.labels_\n",
    "k_mean_data_labels = data\n",
    "k_mean_data_labels['cluster'] = k_mean_labels\n",
    "\n",
    "k_mean_data_labels.to_csv('saved_data/k_mean_data_labels.csv')"
   ],
   "execution_count": 32,
   "outputs": []
  },
  {
   "metadata": {},
   "cell_type": "markdown",
   "source": "# Gaussian Mixture Model"
  },
  {
   "metadata": {},
   "cell_type": "markdown",
   "source": "- Sử dụng BIC score để chọn số cụm tốt nhất và loại covariance type tốt nhất"
  },
  {
   "metadata": {
    "ExecuteTime": {
     "end_time": "2024-06-02T07:15:11.496100Z",
     "start_time": "2024-06-02T07:14:29.832668Z"
    }
   },
   "cell_type": "code",
   "source": [
    "from sklearn.mixture import GaussianMixture\n",
    "import numpy as np\n",
    "import pandas as pd\n",
    "import seaborn as sns\n",
    "import itertools\n",
    "from scipy import linalg\n",
    "import matplotlib.pyplot as plt\n",
    "import matplotlib.patheffects as PathEffects\n",
    "from matplotlib.patches import Ellipse\n",
    "from sklearn.preprocessing import MinMaxScaler\n",
    "from sklearn.mixture import GaussianMixture\n",
    "\n",
    "lowest_bic = np.infty\n",
    "bic = []\n",
    "n_components_range = range(1, 7)\n",
    "# cv_types = ['spherical', 'tied', 'diag', 'full']\n",
    "cv_types = ['full', 'tied']\n",
    "for cv_type in cv_types:\n",
    "    for n_components in n_components_range:\n",
    "        # Fit Gaussian mixture theo phương pháp huấn luyện EM\n",
    "        gmm = GaussianMixture(n_components=n_components,\n",
    "                              covariance_type=cv_type)\n",
    "        gmm.fit(music_features_scaled_train)\n",
    "        bic.append(gmm.bic(music_features_scaled_train))\n",
    "        # Gán model có BIC scores thấp nhất là model tốt nhất\n",
    "        if bic[-1] < lowest_bic:\n",
    "            lowest_bic = bic[-1]\n",
    "            best_gmm = gmm\n",
    "\n",
    "bic = np.array(bic)\n",
    "color_iter = itertools.cycle(['navy', 'turquoise'])\n",
    "clf = best_gmm\n",
    "bars = []\n",
    "\n",
    "# Vẽ biểu đồ BIC scores\n",
    "plt.figure(figsize=(12, 8))\n",
    "for i, (cv_type, color) in enumerate(zip(cv_types, color_iter)):\n",
    "    xpos = np.array(n_components_range) + .2 * (i - 2)\n",
    "    bars.append(plt.bar(xpos, bic[i * len(n_components_range):\n",
    "                                  (i + 1) * len(n_components_range)],\n",
    "                        width=.2, color=color))\n",
    "plt.xticks(n_components_range)\n",
    "plt.ylim([bic.min() * 1.01 - .01 * bic.max(), bic.max()])\n",
    "plt.title('BIC score per model')\n",
    "xpos = np.mod(bic.argmin(), len(n_components_range)) + .65 + \\\n",
    "       .2 * np.floor(bic.argmin() / len(n_components_range))\n",
    "plt.text(xpos, bic.min() * 0.97 + .03 * bic.max(), '*', fontsize=14)\n",
    "plt.xlabel('Number of components')\n",
    "plt.legend([b[0] for b in bars], cv_types)"
   ],
   "execution_count": 33,
   "outputs": []
  },
  {
   "metadata": {},
   "cell_type": "markdown",
   "source": "Nhìn vào bảng trên ta chọn được n = 5 và cv_type = full"
  },
  {
   "metadata": {
    "ExecuteTime": {
     "end_time": "2024-06-02T07:17:07.957744Z",
     "start_time": "2024-06-02T07:15:29.995875Z"
    }
   },
   "cell_type": "code",
   "source": [
    "# Test score\n",
    "\n",
    "model = best_gmm\n",
    "labels = model.predict(music_features_scaled_train)\n",
    "\n",
    "print(f\"Silhouette Score for Gaussian Mixture Model\", silhouette_score(music_features_scaled_train, labels))"
   ],
   "execution_count": 34,
   "outputs": []
  },
  {
   "metadata": {
    "ExecuteTime": {
     "end_time": "2024-06-02T07:17:24.166040Z",
     "start_time": "2024-06-02T07:17:22.848140Z"
    }
   },
   "cell_type": "code",
   "source": [
    "# Vẽ biểu đồ phân cụm\n",
    "labels = best_gmm.predict(music_features_scaled_train)\n",
    "_plot_kmean_scatter(tsne_results, labels)"
   ],
   "execution_count": 35,
   "outputs": []
  },
  {
   "metadata": {
    "ExecuteTime": {
     "end_time": "2024-06-02T07:19:30.621503Z",
     "start_time": "2024-06-02T07:19:29.571014Z"
    }
   },
   "cell_type": "code",
   "source": [
    "# Nhóm sẽ lưu lại dữ liệu và gắn nhãn để đánh giá tính chất của các cụm\n",
    "gmm_labels = labels\n",
    "gmm_data_labels = data\n",
    "gmm_data_labels['cluster'] = labels\n",
    "\n",
    "gmm_data_labels.to_csv('saved_data/gmm_data_labels.csv')"
   ],
   "execution_count": 36,
   "outputs": []
  },
  {
   "metadata": {},
   "cell_type": "markdown",
   "source": "# DBSCAN"
  },
  {
   "metadata": {
    "ExecuteTime": {
     "end_time": "2024-06-02T07:28:17.688794Z",
     "start_time": "2024-06-02T07:28:03.325326Z"
    }
   },
   "cell_type": "code",
   "source": [
    "# Tìm eps bằng cách sử dụng NearestNeighbors với n_neighbors = minpts\n",
    "# Tuy nhiên với dữ liệu đầu vào lớn như bộ dữ liệu Spotify, minpts cũng lớn nên ta sẽ chọn khoảng cách xa nhất từ phạm vi láng giềng của mỗi điểm\n",
    "\n",
    "\n",
    "import pandas as pd\n",
    "from sklearn.cluster import DBSCAN\n",
    "import matplotlib.pyplot as plt\n",
    "import matplotlib.patheffects as PathEffects\n",
    "import seaborn as sns\n",
    "import numpy as np\n",
    "\n",
    "from sklearn.neighbors import NearestNeighbors\n",
    "\n",
    "\n",
    "neighbors = 15\n",
    "nbrs = NearestNeighbors(n_neighbors=neighbors ).fit(music_features_scaled_train)\n",
    "\n",
    "# Ma trận khoảng cách distances: (N, k)\n",
    "distances, indices = nbrs.kneighbors(music_features_scaled_train)\n",
    "\n",
    "# Lấy ra khoảng cách xa nhất từ phạm vi láng giềng của mỗi điểm và sắp xếp theo thứ tự giảm dần.\n",
    "distance_desc = sorted(distances[:, neighbors-1], reverse=True)\n",
    "\n",
    "# Vẽ biểu đồ khoảng cách xa nhất ở trên theo thứ tự giảm dần\n",
    "plt.figure(figsize=(12, 8))\n",
    "plt.plot(list(range(1,len(distance_desc )+1)), distance_desc)\n",
    "plt.axhline(y=0.45)\n",
    "plt.text(2, 0.45, 'y = 0.45', fontsize=12)\n",
    "plt.ylabel('distance')\n",
    "plt.xlabel('indice')\n",
    "plt.title('Sorting Maximum Distance in k Nearest Neighbor of kNN')\n",
    "plt.show()"
   ],
   "execution_count": 44,
   "outputs": []
  },
  {
   "metadata": {},
   "cell_type": "markdown",
   "source": "Ta thấy điểm elbow là 0.5 nên ta thử với elps = 0.5"
  },
  {
   "metadata": {
    "ExecuteTime": {
     "end_time": "2024-06-02T07:29:10.958402Z",
     "start_time": "2024-06-02T07:28:28.463323Z"
    }
   },
   "cell_type": "code",
   "source": [
    "# Huấn luyện model \n",
    "\n",
    "dbscan = DBSCAN(eps=0.45,\n",
    "       min_samples=5,\n",
    "       metric='euclidean',\n",
    "       algorithm='auto'\n",
    "       )\n",
    "dbscan.fit(music_features_scaled_train)\n",
    "\n",
    "# Vẽ biểu đồ phân cụm\n",
    "_plot_kmean_scatter(tsne_results, dbscan.labels_)"
   ],
   "execution_count": 45,
   "outputs": []
  },
  {
   "metadata": {
    "ExecuteTime": {
     "end_time": "2024-06-02T07:30:59.647997Z",
     "start_time": "2024-06-02T07:29:21.357621Z"
    }
   },
   "cell_type": "code",
   "source": "print(f\"Silhouette Score for DBSCAN\", silhouette_score(music_features_scaled_train, dbscan.labels_))",
   "execution_count": 46,
   "outputs": []
  },
  {
   "metadata": {
    "ExecuteTime": {
     "end_time": "2024-06-02T07:32:25.786908Z",
     "start_time": "2024-06-02T07:32:25.099947Z"
    }
   },
   "cell_type": "code",
   "source": [
    "# Nhóm sẽ lưu lại dữ liệu và gắn nhãn để đánh giá tính chất của các cụm\n",
    "dbscan_labels = dbscan.labels_\n",
    "dbscan_data_labels = data\n",
    "dbscan_data_labels['cluster'] = dbscan_labels\n",
    "\n",
    "dbscan_data_labels.to_csv('saved_data/dbscan_data_labels.csv')"
   ],
   "execution_count": 47,
   "outputs": []
  },
  {
   "metadata": {},
   "cell_type": "markdown",
   "source": "# Sử dụng AutoEncoder kết hợp với K-means để phân cụm "
  },
  {
   "metadata": {},
   "cell_type": "markdown",
   "source": "### AutoEncoder sẽ dùng để giảm chiều dữ liệu, sử dụng thư viện Tensorflow "
  },
  {
   "metadata": {
    "ExecuteTime": {
     "end_time": "2024-06-02T07:32:51.654232Z",
     "start_time": "2024-06-02T07:32:51.600665Z"
    }
   },
   "cell_type": "code",
   "source": [
    "from tensorflow.keras.layers import Input, Add, Dense, Activation, ZeroPadding2D, BatchNormalization, Flatten, Conv2D, AveragePooling2D, MaxPooling2D, Dropout\n",
    "from tensorflow.keras.models import Model, load_model\n",
    "from tensorflow.keras.initializers import glorot_uniform\n",
    "from tensorflow.keras.optimizers import SGD\n",
    "\n",
    "encoding_dim = 2\n",
    "\n",
    "input_df = Input(shape=(13,))\n",
    "\n",
    "\n",
    "# Glorot normal initializer (Xavier normal initializer) draws samples from a truncated normal distribution \n",
    "\n",
    "x = Dense(encoding_dim, activation='relu')(input_df)\n",
    "x = Dense(500, activation='relu', kernel_initializer = 'glorot_uniform')(x)\n",
    "x = Dense(500, activation='relu', kernel_initializer = 'glorot_uniform')(x)\n",
    "x = Dense(2000, activation='relu', kernel_initializer = 'glorot_uniform')(x)\n",
    "\n",
    "encoded = Dense(10, activation='relu', kernel_initializer = 'glorot_uniform')(x)\n",
    "\n",
    "x = Dense(2000, activation='relu', kernel_initializer = 'glorot_uniform')(encoded)\n",
    "x = Dense(500, activation='relu', kernel_initializer = 'glorot_uniform')(x)\n",
    "\n",
    "decoded = Dense(13, kernel_initializer = 'glorot_uniform')(x)\n",
    "\n",
    "# autoencoder\n",
    "autoencoder = Model(input_df, decoded)\n",
    "\n",
    "#encoder - used for our dimention reduction\n",
    "encoder = Model(input_df, encoded)\n",
    "\n",
    "autoencoder.compile(optimizer= 'adam', loss='mean_squared_error')"
   ],
   "execution_count": 49,
   "outputs": []
  },
  {
   "metadata": {
    "ExecuteTime": {
     "end_time": "2024-06-02T07:39:17.400073Z",
     "start_time": "2024-06-02T07:32:59.942350Z"
    }
   },
   "cell_type": "code",
   "source": "autoencoder.fit(music_features_scaled_train, music_features_scaled_train, batch_size = 128, epochs = 25,  verbose = 1)",
   "execution_count": 50,
   "outputs": []
  },
  {
   "metadata": {
    "ExecuteTime": {
     "end_time": "2024-06-02T07:39:35.259382Z",
     "start_time": "2024-06-02T07:39:35.237031Z"
    }
   },
   "cell_type": "code",
   "source": "autoencoder.summary()",
   "execution_count": 51,
   "outputs": []
  },
  {
   "metadata": {
    "ExecuteTime": {
     "end_time": "2024-06-02T07:39:40.682225Z",
     "start_time": "2024-06-02T07:39:40.596645Z"
    }
   },
   "cell_type": "code",
   "source": "autoencoder.save_weights('autoencoder.weights.h5')",
   "execution_count": 52,
   "outputs": []
  },
  {
   "metadata": {
    "ExecuteTime": {
     "end_time": "2024-06-02T07:40:12.596785Z",
     "start_time": "2024-06-02T07:40:04.580205Z"
    }
   },
   "cell_type": "code",
   "source": "pred = encoder.predict(music_features_scaled_train)",
   "execution_count": 53,
   "outputs": []
  },
  {
   "metadata": {
    "ExecuteTime": {
     "end_time": "2024-06-02T07:40:25.836694Z",
     "start_time": "2024-06-02T07:40:19.956621Z"
    }
   },
   "cell_type": "code",
   "source": [
    "model = KMeans(init=\"k-means++\")\n",
    "visualizer = KElbowVisualizer(model, k=(1,25))\n",
    "visualizer.fit(pred)\n",
    "visualizer.show()"
   ],
   "execution_count": 54,
   "outputs": []
  },
  {
   "metadata": {
    "ExecuteTime": {
     "end_time": "2024-06-02T07:40:35.535558Z",
     "start_time": "2024-06-02T07:40:35.014230Z"
    }
   },
   "cell_type": "code",
   "source": [
    "model = KMeans(init=\"k-means++\", n_clusters=8)\n",
    "model.fit(pred)\n",
    "labels = model.labels_\n",
    "y_kmeans = model.fit_predict(music_features_scaled_train)"
   ],
   "execution_count": 55,
   "outputs": []
  },
  {
   "metadata": {
    "ExecuteTime": {
     "end_time": "2024-06-02T07:40:45.038470Z",
     "start_time": "2024-06-02T07:40:43.994566Z"
    }
   },
   "cell_type": "code",
   "source": "_plot_kmean_scatter(tsne_results, labels)",
   "execution_count": 56,
   "outputs": []
  },
  {
   "metadata": {
    "ExecuteTime": {
     "end_time": "2024-06-02T07:42:39.912140Z",
     "start_time": "2024-06-02T07:41:01.131819Z"
    }
   },
   "cell_type": "code",
   "source": "print(f\"Silhouette Score for AutoEncoder + KMeans\", silhouette_score(music_features_scaled_train, labels))",
   "execution_count": 57,
   "outputs": []
  },
  {
   "metadata": {
    "ExecuteTime": {
     "end_time": "2024-06-02T07:45:45.371777Z",
     "start_time": "2024-06-02T07:45:44.340436Z"
    }
   },
   "cell_type": "code",
   "source": [
    "# Nhóm sẽ lưu lại dữ liệu và gắn nhãn để đánh giá tính chất của các cụm\n",
    "kmean_autoencoder_labels = labels\n",
    "kmean_autoencoder_data_labels = data\n",
    "kmean_autoencoder_data_labels['cluster'] = labels\n",
    "\n",
    "kmean_autoencoder_data_labels.to_csv('saved_data/kmean_autoencoder_data_labels.csv')"
   ],
   "execution_count": 58,
   "outputs": []
  },
  {
   "metadata": {},
   "cell_type": "markdown",
   "source": [
    "# So sánh các mô hình\n",
    "\n",
    "- Vì dữ liệu không gán nhãn nên nhóm sử dụng phương pháp intrinsic evaluation để đánh giá mô hình\n",
    "- Nhóm sẽ sử dụng silhouette score để đánh giá mô hình và đánh giá dữ liệu đã gán nhãn thủ công để xem xét mô hình nào phù hợp nhất\n"
   ]
  },
  {
   "metadata": {},
   "cell_type": "markdown",
   "source": [
    "## Với Silhouette Score\n",
    "- K-means: 0.15950412552652185\n",
    "- Gaussian Mixture Model: 0.12385685016737732\n",
    "- DBSCAN: 0.19205934884345846\n",
    "- AutoEncoder + K-means: 0.09205263513018441\n",
    "\n",
    "### Với điểm số silhouette, DBSCAN và K-means cho kết quả tốt nhất\n",
    "- Tuy nhiên nhìn vào biểu đồ phân cụm, ta thấy K-means có chất lượng phân cụm tốt hơn\n",
    "- Vì vậy nhóm sẽ kiểm tra qua dữ liệu đã gán nhãn một lượt "
   ]
  },
  {
   "metadata": {
    "ExecuteTime": {
     "end_time": "2024-06-02T07:59:40.653186Z",
     "start_time": "2024-06-02T07:59:39.379555Z"
    }
   },
   "cell_type": "code",
   "source": [
    "# Tải dữ liệu đã gán nhãn của hai mô hình K-means và DBSCAN\n",
    "k_mean_data_labels = pd.read_csv('saved_data/k_mean_data_labels.csv')\n",
    "dbscan_data_labels = pd.read_csv('saved_data/dbscan_data_labels.csv')"
   ],
   "execution_count": 59,
   "outputs": []
  },
  {
   "metadata": {
    "ExecuteTime": {
     "end_time": "2024-06-02T08:38:02.429145Z",
     "start_time": "2024-06-02T08:38:02.286773Z"
    }
   },
   "cell_type": "code",
   "source": [
    "# Gán \"music_features\" vào dữ liệu đã gán nhãn\n",
    "labeled_df = k_mean_data_labels\n",
    "labeled_df['music_features'] = music_features_scaled_train.tolist()\n",
    "print(labeled_df)"
   ],
   "execution_count": 62,
   "outputs": []
  },
  {
   "cell_type": "code",
   "source": [
    "#Lưu lại model\n",
    "import pickle\n",
    "\n",
    "filename = 'finalized_model.sav'\n",
    "pickle.dump(kmean, open(filename, 'wb'))"
   ],
   "metadata": {
    "id": "xBQkY-aWCyfp",
    "ExecuteTime": {
     "end_time": "2024-06-02T08:38:17.084513Z",
     "start_time": "2024-06-02T08:38:17.074587Z"
    }
   },
   "execution_count": 63,
   "outputs": []
  },
  {
   "metadata": {
    "ExecuteTime": {
     "end_time": "2024-06-02T08:38:40.232790Z",
     "start_time": "2024-06-02T08:38:38.699866Z"
    }
   },
   "cell_type": "code",
   "source": [
    "#Save labeled data\n",
    "labeled_df.to_csv('saved_data/labeled_data.csv')"
   ],
   "execution_count": 64,
   "outputs": []
  },
  {
   "metadata": {},
   "cell_type": "markdown",
   "source": [
    "Sau khi hoàn thành việc huấn luyện và gán nhãn dữ liệu, mục tiêu của đồ án sẽ là tạo ra một hệ thống gợi ý dựa trên nội dung của bài hát\n",
    "Sau khi lựa chọn một bài hát bất kỳ từ dữ liệu, gom các thuôộc tinính laại, transform chúng bănằng Min Max Scaler đã đươợc lưu từ ban đầu\n",
    "Hệ thống sẽ dự báo nhãn của bài hát đó và tìm kiếm những bài hát có nhãn tương tự\n",
    "Sắp xếp theo similarity score và trả về 10 bài hát tương tự   "
   ]
  },
  {
   "metadata": {
    "ExecuteTime": {
     "end_time": "2024-06-02T08:42:18.785734Z",
     "start_time": "2024-06-02T08:42:18.781513Z"
    }
   },
   "cell_type": "code",
   "source": [
    "import pickle\n",
    "\n",
    "# Hàm dự báo nhãn của bài hát\n",
    "\n",
    "def cluster_predict(data):\n",
    "    loaded_model = pickle.load(open(\"finalized_model.sav\", 'rb'))\n",
    "    prediction = loaded_model.predict(np.array(data))\n",
    "    return prediction"
   ],
   "execution_count": 67,
   "outputs": []
  },
  {
   "cell_type": "code",
   "source": [
    "from sklearn.metrics.pairwise import cosine_similarity\n",
    "import ast\n",
    "\n",
    "def recommend_util(track_id):\n",
    "    if track_id not in data['track_id'].values:\n",
    "        print(f\"'{track_id}' not found in the dataset. Please enter a valid song name.\")\n",
    "        return\n",
    "\n",
    "    # match on the basis course-id and form whole 'Description' entry out of it.\n",
    "    song = (data.loc[data['track_id'] == track_id]).head(1)\n",
    "    mf = song[['danceability', 'energy', 'key',\n",
    "                            'loudness', 'mode', 'speechiness', 'acousticness',\n",
    "                            'instrumentalness', 'liveness', 'valence', 'tempo', 'track_genre', 'explicit']].values\n",
    "    \n",
    "    scaler = pickle.load(open('scaler.sav', 'rb'))\n",
    "    mfs = scaler.transform(mf)\n",
    "\n",
    "    prediction_inp = cluster_predict(mfs)\n",
    "    \n",
    "    data_labeled = pd.read_csv('saved_data/labeled_data.csv')\n",
    "    same_cluster_songs = data_labeled.loc[data_labeled['cluster'] == prediction_inp[0]]\n",
    "    music_features_ar = same_cluster_songs['music_features'].to_numpy()\n",
    "    music_features_ar = np.array([ast.literal_eval(x) for x in music_features_ar])\n",
    "    \n",
    "    similarity_scores = cosine_similarity(np.array(mfs), music_features_ar)\n",
    "\n",
    "    # Get the indices of the most similar songs\n",
    "    # Get first 50 song indices\n",
    "    similar_song_indices = similarity_scores.argsort()[0][::-1][2:52]\n",
    "    \n",
    "    # Sau đó sẽ sắp xếp dựa trên popularity \n",
    "\n",
    "    content_based_recommendations = same_cluster_songs.iloc[similar_song_indices, :].sort_values('popularity', ascending=False).head(10)\n",
    "\n",
    "    return content_based_recommendations\n",
    "print(\"%%HTML\\n\" ,recommend_util(\"3hUxzQpSfdDqwM3ZTFQY0K\").to_html())"
   ],
   "metadata": {
    "id": "XFta81rKXQe2",
    "ExecuteTime": {
     "end_time": "2024-06-02T09:03:38.055287Z",
     "start_time": "2024-06-02T09:03:36.973854Z"
    }
   },
   "execution_count": 78,
   "outputs": []
  },
  {
   "cell_type": "code",
   "source": "",
   "metadata": {
    "id": "U73Ib27oYwtl",
    "ExecuteTime": {
     "end_time": "2024-06-01T13:37:31.109405Z",
     "start_time": "2024-06-01T13:37:31.095150Z"
    }
   },
   "execution_count": 45,
   "outputs": []
  }
 ]
}
